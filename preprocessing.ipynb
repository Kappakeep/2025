{
 "cells": [
  {
   "cell_type": "markdown",
   "metadata": {},
   "source": [
    "## imports\n"
   ]
  },
  {
   "cell_type": "code",
   "execution_count": 1,
   "metadata": {},
   "outputs": [
    {
     "name": "stderr",
     "output_type": "stream",
     "text": [
      "[nltk_data] Downloading package punkt to\n",
      "[nltk_data]     C:\\Users\\Kambouris1970\\AppData\\Roaming\\nltk_data...\n",
      "[nltk_data]   Package punkt is already up-to-date!\n",
      "[nltk_data] Downloading package stopwords to\n",
      "[nltk_data]     C:\\Users\\Kambouris1970\\AppData\\Roaming\\nltk_data...\n",
      "[nltk_data]   Package stopwords is already up-to-date!\n"
     ]
    },
    {
     "data": {
      "text/plain": [
       "True"
      ]
     },
     "execution_count": 1,
     "metadata": {},
     "output_type": "execute_result"
    }
   ],
   "source": [
    "import json\n",
    "import re\n",
    "import nltk\n",
    "from nltk.tokenize import word_tokenize\n",
    "from nltk.corpus import stopwords\n",
    "from nltk.stem import WordNetLemmatizer\n",
    "from string import punctuation\n",
    "import os\n",
    "\n",
    "nltk.download('punkt')\n",
    "nltk.download('stopwords')\n"
   ]
  },
  {
   "cell_type": "markdown",
   "metadata": {},
   "source": [
    "## Lemmatizer,Tokenization, Stopword Removal, punctuation removal\n",
    "\n",
    "Εδώ γίνεται η διαδικασία προεπεξργασίας του άρθρου."
   ]
  },
  {
   "cell_type": "code",
   "execution_count": 2,
   "metadata": {},
   "outputs": [],
   "source": [
    "\n",
    "lemmatizer = WordNetLemmatizer()\n",
    "stop_words = set(stopwords.words('english'))  \n",
    "\n",
    "def preprocess_text(text):\n",
    "    # Αφαίρεση ειδικών χαρακτήρων και αριθμών\n",
    "    text = re.sub(r'[^\\w\\s]', '', text)  # Αφαίρεση σημείων στίξης\n",
    "    text = re.sub(r'\\d+', '', text)      # Αφαίρεση αριθμών\n",
    "    # Tokenization\n",
    "    tokens = word_tokenize(text.lower())  # Μετατροπή σε πεζά και διαχωρισμός λέξεων\n",
    "    # Αφαίρεση stop words\n",
    "    filtered_tokens = [word for word in tokens if word not in stop_words]\n",
    "    # Lemmatization\n",
    "    lemmatized_tokens = [lemmatizer.lemmatize(word) for word in filtered_tokens]\n",
    "    \n",
    "    return ' '.join(lemmatized_tokens)  # Επιστροφή του κειμένου ως string\n"
   ]
  },
  {
   "cell_type": "markdown",
   "metadata": {},
   "source": [
    "## Άνοιγμα αρχείου και δημιουργία JSON"
   ]
  },
  {
   "cell_type": "code",
   "execution_count": 3,
   "metadata": {},
   "outputs": [
    {
     "name": "stdout",
     "output_type": "stream",
     "text": [
      "Trying to load file from: y:\\Anaktish\\2025-jupyter\\filtered_wikipedia_articles.json\n"
     ]
    }
   ],
   "source": [
    "\n",
    "# Φόρτωση των άρθρων από το JSON\n",
    "file_path = os.path.join(os.getcwd(), 'filtered_wikipedia_articles.json')\n",
    "print(f\"Trying to load file from: {file_path}\")\n",
    "\n",
    "# Άνοιγμα του αρχείου με error handling\n",
    "try:\n",
    "    with open(file_path, 'r', encoding='utf-8') as file:\n",
    "        articles_data = json.load(file)\n",
    "except FileNotFoundError:\n",
    "    print(f\"File not found: {file_path}\")\n",
    "    exit(1)\n",
    "except json.JSONDecodeError:\n",
    "    print(\"Error parsing JSON.\")\n",
    "    exit(1)\n"
   ]
  },
  {
   "cell_type": "markdown",
   "metadata": {},
   "source": [
    "## Αποθήκευση σε JSON και error handling."
   ]
  },
  {
   "cell_type": "code",
   "execution_count": null,
   "metadata": {},
   "outputs": [
    {
     "name": "stdout",
     "output_type": "stream",
     "text": [
      "Η προεπεξεργασία ολοκληρώθηκε! Τα αποτελέσματα αποθηκεύτηκαν στο αρχείο 'preprocessed_wikipedia_articles.json'.\n"
     ]
    }
   ],
   "source": [
    "\n",
    "# Προεπεξεργασία άρθρων\n",
    "preprocessed_articles = []\n",
    "for article in articles_data:\n",
    "    if 'content' in article and article['content']:  # Ελέγξτε αν υπάρχει περιεχόμενο\n",
    "        processed_content = preprocess_text(article['content'])\n",
    "        preprocessed_articles.append({\n",
    "            'title': article.get('title', 'No Title'),\n",
    "            'processed_content': processed_content\n",
    "        })\n",
    "\n",
    "# Αποθήκευση σε νέο αρχείο JSON\n",
    "output_file_path = 'preprocessed_wikipedia_articles.json'\n",
    "try:\n",
    "    with open(output_file_path, 'w', encoding='utf-8') as file:\n",
    "        json.dump(preprocessed_articles, file, indent=4)\n",
    "    print(f\"Η προεπεξεργασία ολοκληρώθηκε! Τα αποτελέσματα αποθηκεύτηκαν στο αρχείο '{output_file_path}'.\")\n",
    "except Exception as e:\n",
    "    print(f\"Error saving the file: {e}\")\n",
    "\n"
   ]
  }
 ],
 "metadata": {
  "kernelspec": {
   "display_name": "base",
   "language": "python",
   "name": "python3"
  },
  "language_info": {
   "codemirror_mode": {
    "name": "ipython",
    "version": 3
   },
   "file_extension": ".py",
   "mimetype": "text/x-python",
   "name": "python",
   "nbconvert_exporter": "python",
   "pygments_lexer": "ipython3",
   "version": "3.11.5"
  }
 },
 "nbformat": 4,
 "nbformat_minor": 2
}
